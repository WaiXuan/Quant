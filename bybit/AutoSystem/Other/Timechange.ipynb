{
 "cells": [
  {
   "cell_type": "code",
   "execution_count": null,
   "id": "7cebf91a",
   "metadata": {
    "vscode": {
     "languageId": "plaintext"
    }
   },
   "outputs": [],
   "source": [
    "import datetime\n",
    "from datetime import datetime\n",
    "\n",
    "timestamp1 = 1693239919066 / 1000\n",
    "timestamp2 = 1695225600040 / 1000\n",
    "\n",
    "datetime_obj1 = datetime.fromtimestamp(timestamp1)\n",
    "datetime_obj2 = datetime.fromtimestamp(timestamp2)\n",
    "\n",
    "print(datetime_obj1.strftime(\"%Y/%m/%d %H:%M\"))\n",
    "print(datetime_obj2)\n",
    "\n",
    "print(datetime.fromtimestamp((1694966400043)/1000).strftime(\"%Y/%m/%d %H:%M\"))\n"
   ]
  }
 ],
 "metadata": {
  "kernelspec": {
   "display_name": "Python 3 (ipykernel)",
   "language": "python",
   "name": "python3"
  },
  "language_info": {
   "codemirror_mode": {
    "name": "ipython",
    "version": 3
   },
   "file_extension": ".py",
   "mimetype": "text/x-python",
   "name": "python",
   "nbconvert_exporter": "python",
   "pygments_lexer": "ipython3",
   "version": "3.10.11"
  }
 },
 "nbformat": 4,
 "nbformat_minor": 5
}

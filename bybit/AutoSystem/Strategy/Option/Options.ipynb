{
 "cells": [
  {
   "cell_type": "code",
   "execution_count": 1,
   "id": "1c70fb78",
   "metadata": {},
   "outputs": [
    {
     "name": "stdout",
     "output_type": "stream",
     "text": [
      "--- 開始執行時間： 2024/02/28 00:35:39 ---\n"
     ]
    }
   ],
   "source": [
    "# 環境設定\n",
    "env = 'win'\n",
    "env = 'mac'\n",
    "\n",
    "path = paths[env]\n",
    "\n",
    "import time\n",
    "import sys\n",
    "sys.path.append(path + \"/main\")\n",
    "\n",
    "from datetime import datetime\n",
    "from PerpBybit import PerpBybit\n",
    "from PerpBitget import PerpBitget\n",
    "import json\n",
    "\n",
    "# region 現在時間\n",
    "now = datetime.now()\n",
    "current_time = now.strftime(\"%Y/%m/%d %H:%M:%S\")\n",
    "print(\"--- 開始執行時間：\", current_time, \"---\")\n",
    "#endregion\n",
    "\n",
    "# region 讀取json設定值\n",
    "f = open( path + \"/json/BitgetAccount.json\")\n",
    "Account = json.load(f)\n",
    "f.close()\n",
    "\n",
    "f = open(path + \"/json/Line.json\")\n",
    "Line = json.load(f)\n",
    "f.close()        \n",
    "\n",
    "f = open(path + \"/json/Options_Setting.json\")\n",
    "Setting = json.load(f)\n",
    "f.close()\n",
    "#endregion\n",
    "\n",
    "\n",
    "# region 參數設定(之後由外部傳入)\n",
    "line_key = Line[\"LINE_API\"]\n",
    "\n",
    "\n",
    "account_to_select = \"WeiXuan\"\n",
    "# endregion\n",
    "\n",
    "#region Bybit API\n",
    "bybit = PerpBybit(\n",
    "    apiKey=Account[account_to_select][\"apiKey\"],\n",
    "    secret=Account[account_to_select][\"secret\"],\n",
    "    test=Account[account_to_select][\"test\"],\n",
    ")\n",
    "\n",
    "\n",
    "# endregion"
   ]
  },
  {
   "cell_type": "code",
   "execution_count": null,
   "id": "9baff759",
   "metadata": {},
   "outputs": [],
   "source": [
    "category = 'option'\n",
    "symbol = 'BTC-27FEB24-50000-C'\n",
    "baseCoin = 'ETH'\n",
    "expDate = Options.calculate_expDate(3)\n",
    "print(expDate)\n",
    "print(bybit.get_market_tickers(category, symbol, baseCoin, expDate))"
   ]
  },
  {
   "cell_type": "code",
   "execution_count": 4,
   "id": "ab14cea1",
   "metadata": {},
   "outputs": [
    {
     "ename": "Exception",
     "evalue": "'bitget' object has no attribute 'privateGetV5AccountWalletBalance'",
     "output_type": "error",
     "traceback": [
      "\u001b[0;31m---------------------------------------------------------------------------\u001b[0m",
      "\u001b[0;31mAttributeError\u001b[0m                            Traceback (most recent call last)",
      "File \u001b[0;32m~/Documents/GitHub/Quantitative/Bybit/AutoSystem/main/PerpBitget.py:375\u001b[0m, in \u001b[0;36mPerpBitget.get_wallet_balance\u001b[0;34m(self, coin)\u001b[0m\n\u001b[1;32m    371\u001b[0m request \u001b[39m=\u001b[39m {\n\u001b[1;32m    372\u001b[0m     \u001b[39m\"\u001b[39m\u001b[39maccountType\u001b[39m\u001b[39m\"\u001b[39m:\u001b[39m\"\u001b[39m\u001b[39mUNIFIED\u001b[39m\u001b[39m\"\u001b[39m,\n\u001b[1;32m    373\u001b[0m     \u001b[39m\"\u001b[39m\u001b[39mcoin\u001b[39m\u001b[39m\"\u001b[39m: coin      \n\u001b[1;32m    374\u001b[0m }\n\u001b[0;32m--> 375\u001b[0m result \u001b[39m=\u001b[39m \u001b[39mself\u001b[39m\u001b[39m.\u001b[39m_session\u001b[39m.\u001b[39mprivateGetV5AccountWalletBalance(request)[\u001b[39m'\u001b[39m\u001b[39mresult\u001b[39m\u001b[39m'\u001b[39m][\u001b[39m'\u001b[39m\u001b[39mlist\u001b[39m\u001b[39m'\u001b[39m][\u001b[39m0\u001b[39m][\u001b[39m'\u001b[39m\u001b[39mcoin\u001b[39m\u001b[39m'\u001b[39m][\u001b[39m0\u001b[39m][\u001b[39m'\u001b[39m\u001b[39mavailableToWithdraw\u001b[39m\u001b[39m'\u001b[39m]\n\u001b[1;32m    377\u001b[0m \u001b[39mif\u001b[39;00m result \u001b[39m==\u001b[39m \u001b[39mNone\u001b[39;00m \u001b[39mor\u001b[39;00m  result \u001b[39m==\u001b[39m \u001b[39m'\u001b[39m\u001b[39m'\u001b[39m:\n",
      "\u001b[0;31mAttributeError\u001b[0m: 'bitget' object has no attribute 'privateGetV5AccountWalletBalance'",
      "\nDuring handling of the above exception, another exception occurred:\n",
      "\u001b[0;31mException\u001b[0m                                 Traceback (most recent call last)",
      "\u001b[1;32m/Users/huangbaiyu/Documents/GitHub/Quantitative/Bybit/AutoSystem/Strategy/Option/Options.ipynb 儲存格 2\u001b[0m line \u001b[0;36m8\n\u001b[1;32m      <a href='vscode-notebook-cell:/Users/huangbaiyu/Documents/GitHub/Quantitative/Bybit/AutoSystem/Strategy/Option/Options.ipynb#W2sZmlsZQ%3D%3D?line=0'>1</a>\u001b[0m \u001b[39mimport\u001b[39;00m \u001b[39mccxt\u001b[39;00m\n\u001b[1;32m      <a href='vscode-notebook-cell:/Users/huangbaiyu/Documents/GitHub/Quantitative/Bybit/AutoSystem/Strategy/Option/Options.ipynb#W2sZmlsZQ%3D%3D?line=1'>2</a>\u001b[0m exchange \u001b[39m=\u001b[39m ccxt\u001b[39m.\u001b[39mbitget({\n\u001b[1;32m      <a href='vscode-notebook-cell:/Users/huangbaiyu/Documents/GitHub/Quantitative/Bybit/AutoSystem/Strategy/Option/Options.ipynb#W2sZmlsZQ%3D%3D?line=2'>3</a>\u001b[0m     \u001b[39m'\u001b[39m\u001b[39mapiKey\u001b[39m\u001b[39m'\u001b[39m: \u001b[39m'\u001b[39m\u001b[39mbg_e8784be59c56e0ad5ccdb91ab648ce38\u001b[39m\u001b[39m'\u001b[39m,\n\u001b[1;32m      <a href='vscode-notebook-cell:/Users/huangbaiyu/Documents/GitHub/Quantitative/Bybit/AutoSystem/Strategy/Option/Options.ipynb#W2sZmlsZQ%3D%3D?line=3'>4</a>\u001b[0m     \u001b[39m'\u001b[39m\u001b[39msecret\u001b[39m\u001b[39m'\u001b[39m: \u001b[39m'\u001b[39m\u001b[39m15763cf2df5f31239c7abd723842877f88637e5efe265a26368a52ba350a5b94\u001b[39m\u001b[39m'\u001b[39m,\n\u001b[1;32m      <a href='vscode-notebook-cell:/Users/huangbaiyu/Documents/GitHub/Quantitative/Bybit/AutoSystem/Strategy/Option/Options.ipynb#W2sZmlsZQ%3D%3D?line=4'>5</a>\u001b[0m     \u001b[39m'\u001b[39m\u001b[39mpassword\u001b[39m\u001b[39m'\u001b[39m : \u001b[39m'\u001b[39m\u001b[39mkaoweixuan\u001b[39m\u001b[39m'\u001b[39m\n\u001b[1;32m      <a href='vscode-notebook-cell:/Users/huangbaiyu/Documents/GitHub/Quantitative/Bybit/AutoSystem/Strategy/Option/Options.ipynb#W2sZmlsZQ%3D%3D?line=5'>6</a>\u001b[0m })\n\u001b[0;32m----> <a href='vscode-notebook-cell:/Users/huangbaiyu/Documents/GitHub/Quantitative/Bybit/AutoSystem/Strategy/Option/Options.ipynb#W2sZmlsZQ%3D%3D?line=7'>8</a>\u001b[0m balances \u001b[39m=\u001b[39m bitget\u001b[39m.\u001b[39mget_wallet_balance(\u001b[39m'\u001b[39m\u001b[39mUSDT\u001b[39m\u001b[39m'\u001b[39m)\n\u001b[1;32m     <a href='vscode-notebook-cell:/Users/huangbaiyu/Documents/GitHub/Quantitative/Bybit/AutoSystem/Strategy/Option/Options.ipynb#W2sZmlsZQ%3D%3D?line=9'>10</a>\u001b[0m \u001b[39m# 输出钱包余额\u001b[39;00m\n\u001b[1;32m     <a href='vscode-notebook-cell:/Users/huangbaiyu/Documents/GitHub/Quantitative/Bybit/AutoSystem/Strategy/Option/Options.ipynb#W2sZmlsZQ%3D%3D?line=10'>11</a>\u001b[0m \u001b[39mprint\u001b[39m(\u001b[39m\"\u001b[39m\u001b[39m钱包余额:\u001b[39m\u001b[39m\"\u001b[39m)\n",
      "File \u001b[0;32m~/Documents/GitHub/Quantitative/Bybit/AutoSystem/main/PerpBitget.py:29\u001b[0m, in \u001b[0;36mPerpBitget.authentication_required.<locals>.wrapped\u001b[0;34m(self, *args, **kwargs)\u001b[0m\n\u001b[1;32m     27\u001b[0m     \u001b[39mraise\u001b[39;00m \u001b[39mException\u001b[39;00m(\u001b[39m'\u001b[39m\u001b[39mYou must be authenticated to use this method\u001b[39m\u001b[39m'\u001b[39m)\n\u001b[1;32m     28\u001b[0m \u001b[39melse\u001b[39;00m:\n\u001b[0;32m---> 29\u001b[0m     \u001b[39mreturn\u001b[39;00m fn(\u001b[39mself\u001b[39m, \u001b[39m*\u001b[39margs, \u001b[39m*\u001b[39m\u001b[39m*\u001b[39mkwargs)\n",
      "File \u001b[0;32m~/Documents/GitHub/Quantitative/Bybit/AutoSystem/main/PerpBitget.py:381\u001b[0m, in \u001b[0;36mPerpBitget.get_wallet_balance\u001b[0;34m(self, coin)\u001b[0m\n\u001b[1;32m    379\u001b[0m     \u001b[39mreturn\u001b[39;00m result\n\u001b[1;32m    380\u001b[0m \u001b[39mexcept\u001b[39;00m \u001b[39mBaseException\u001b[39;00m \u001b[39mas\u001b[39;00m err:\n\u001b[0;32m--> 381\u001b[0m     \u001b[39mraise\u001b[39;00m \u001b[39mException\u001b[39;00m(err)\n",
      "\u001b[0;31mException\u001b[0m: 'bitget' object has no attribute 'privateGetV5AccountWalletBalance'"
     ]
    }
   ],
   "source": [
    "import ccxt\n",
    "exchange = ccxt.bitget({\n",
    "    'apiKey': '',\n",
    "    'secret': '',\n",
    "    'password' : 'kaoweixuan'\n",
    "})\n",
    "\n",
    "balances = bitget.get_wallet_balance('USDT')\n",
    "\n",
    "# 输出钱包余额\n",
    "print(\"钱包余额:\")\n",
    "for currency, balance in balances['total'].items():\n",
    "    print(f\"{currency}: {balance}\")\n",
    "\n"
   ]
  }
 ],
 "metadata": {
  "kernelspec": {
   "display_name": "Python 3 (ipykernel)",
   "language": "python",
   "name": "python3"
  },
  "language_info": {
   "codemirror_mode": {
    "name": "ipython",
    "version": 3
   },
   "file_extension": ".py",
   "mimetype": "text/x-python",
   "name": "python",
   "nbconvert_exporter": "python",
   "pygments_lexer": "ipython3",
   "version": "3.10.11"
  }
 },
 "nbformat": 4,
 "nbformat_minor": 5
}
